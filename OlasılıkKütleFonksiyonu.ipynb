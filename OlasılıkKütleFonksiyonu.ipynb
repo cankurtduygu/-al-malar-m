{
  "nbformat": 4,
  "nbformat_minor": 0,
  "metadata": {
    "colab": {
      "name": "Untitled7.ipynb",
      "version": "0.3.2",
      "provenance": [],
      "include_colab_link": true
    },
    "kernelspec": {
      "name": "python3",
      "display_name": "Python 3"
    }
  },
  "cells": [
    {
      "cell_type": "markdown",
      "metadata": {
        "id": "view-in-github",
        "colab_type": "text"
      },
      "source": [
        "<a href=\"https://colab.research.google.com/github/cankurtduygu/OLASILIK/blob/master/Olas%C4%B1l%C4%B1kK%C3%BCtleFonksiyonu.ipynb\" target=\"_parent\"><img src=\"https://colab.research.google.com/assets/colab-badge.svg\" alt=\"Open In Colab\"/></a>"
      ]
    },
    {
      "cell_type": "markdown",
      "metadata": {
        "id": "Skqka9B9VfOs",
        "colab_type": "text"
      },
      "source": [
        "Ayrık(kesikli) olasılık dağılımı = olasılık kütle fonksiyonu örneği"
      ]
    },
    {
      "cell_type": "markdown",
      "metadata": {
        "id": "VG1tx5ESVp-1",
        "colab_type": "text"
      },
      "source": [
        "Soru: Bir torbadan 2 top çekiliyor.Mavi top gelme sayısına ait kesikli olasılık dağılımını bulunuz."
      ]
    },
    {
      "cell_type": "code",
      "metadata": {
        "id": "ii8WVf2qV2c3",
        "colab_type": "code",
        "colab": {}
      },
      "source": [
        "pYesil = 4\n",
        "pMavi = 3\n",
        "pToplam = pMavi + pYesil"
      ],
      "execution_count": 0,
      "outputs": []
    },
    {
      "cell_type": "markdown",
      "metadata": {
        "id": "hrDNNBVCWBcJ",
        "colab_type": "text"
      },
      "source": [
        "Torbada 4 adet yeşil ve 3 adet mavi top vardır.Toplamda 7 top bulunmaktadır."
      ]
    },
    {
      "cell_type": "code",
      "metadata": {
        "id": "tK9VZg6nWJlJ",
        "colab_type": "code",
        "colab": {}
      },
      "source": [
        "X = [0,1,2]"
      ],
      "execution_count": 0,
      "outputs": []
    },
    {
      "cell_type": "markdown",
      "metadata": {
        "id": "8N6da6ByWQpE",
        "colab_type": "text"
      },
      "source": [
        "X listesi mavi topun gelme olasılıklarını tutmaktadır.\n",
        "Örneğin: X[0] = (pYY) hiç mavi top gelmemesi durumu. X[1] = (pYM + pMY) bir adet mavi top gelmemesi durumu. X[2] = (pMM) ikisindede mavi gelme olasılığına karşılık gelir."
      ]
    },
    {
      "cell_type": "code",
      "metadata": {
        "id": "MTqdtKEeW_ny",
        "colab_type": "code",
        "colab": {}
      },
      "source": [
        "for i in range(0,3):\n",
        "  if X[i]==0:\n",
        "    pYY=(pYesil/pToplam)*(pMavi/(pToplam-1))\n",
        "    X[0] = pYY\n",
        "    \n",
        "  if X[i]==1:\n",
        "    pYM = (pYesil/pToplam)*(pMavi/(pToplam-2))\n",
        "    pMY = (pMavi/pToplam)*(pYesil/(pToplam-1))\n",
        "    p1=pYM+pMY\n",
        "    X[1] = p1\n",
        "    \n",
        "  if X[i]==2:\n",
        "    pMM = (pMavi/pToplam)*((pMavi-1)/(pToplam-1))\n",
        "    \n",
        "    X[2] =pMM\n",
        "    \n",
        "    "
      ],
      "execution_count": 0,
      "outputs": []
    },
    {
      "cell_type": "markdown",
      "metadata": {
        "id": "CcBaJXeOYQo7",
        "colab_type": "text"
      },
      "source": [
        "Yukarıda tanımladığımız for döngüsü daha önce bahsedilen pYY, pMY, pYM, pMM durumlarının olasılık değerlerinin hesaplanmasını anlatmaktadır.İlgili olasılık değerleri hesaplanarak X[] listesinin temsil ettiği elemanlara ilgili değerler atanır.Örneğin X[0]=pYY"
      ]
    },
    {
      "cell_type": "code",
      "metadata": {
        "id": "ACgzN1rAY3wc",
        "colab_type": "code",
        "colab": {
          "base_uri": "https://localhost:8080/",
          "height": 69
        },
        "outputId": "406867d3-755d-48b4-b688-9a14edb159de"
      },
      "source": [
        "for j in range (0,3):\n",
        "  print('X[',j,']=',X[j])"
      ],
      "execution_count": 7,
      "outputs": [
        {
          "output_type": "stream",
          "text": [
            "X[ 0 ]= 0.2857142857142857\n",
            "X[ 1 ]= 0.6285714285714286\n",
            "X[ 2 ]= 0.14285714285714285\n"
          ],
          "name": "stdout"
        }
      ]
    }
  ]
}