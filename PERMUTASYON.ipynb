{
  "nbformat": 4,
  "nbformat_minor": 0,
  "metadata": {
    "colab": {
      "name": "PERMUTASYON.ipynb",
      "version": "0.3.2",
      "provenance": [],
      "include_colab_link": true
    },
    "kernelspec": {
      "name": "python3",
      "display_name": "Python 3"
    }
  },
  "cells": [
    {
      "cell_type": "markdown",
      "metadata": {
        "id": "view-in-github",
        "colab_type": "text"
      },
      "source": [
        "<a href=\"https://colab.research.google.com/github/cankurtduygu/OLASILIK/blob/master/PERMUTASYON.ipynb\" target=\"_parent\"><img src=\"https://colab.research.google.com/assets/colab-badge.svg\" alt=\"Open In Colab\"/></a>"
      ]
    },
    {
      "metadata": {
        "id": "EuatnDQ_YzOK",
        "colab_type": "text"
      },
      "cell_type": "markdown",
      "source": [
        "***SORU:*** A,B,C,D harflerinin ikisi yan yana gelerek kaç farklı şekilde sıralanabilir?"
      ]
    },
    {
      "metadata": {
        "id": "L-eScspaZAtJ",
        "colab_type": "code",
        "colab": {}
      },
      "cell_type": "code",
      "source": [
        "def faktoriyel(n):\n",
        "    if n <= 1:\n",
        "        return 1\n",
        "    else:\n",
        "        return n*faktoriyel(n-1)"
      ],
      "execution_count": 0,
      "outputs": []
    },
    {
      "metadata": {
        "id": "0nRczSNnZE3s",
        "colab_type": "text"
      },
      "cell_type": "markdown",
      "source": [
        "Faktöriyel hesaplama için fonksiyonumuzu tanımlıyoruz."
      ]
    },
    {
      "metadata": {
        "id": "o4LNZKC_ZPhS",
        "colab_type": "code",
        "colab": {}
      },
      "cell_type": "code",
      "source": [
        "def permutasyon(a,b):\n",
        "    t = 0\n",
        "    if b>a:\n",
        "        t=t\n",
        "    else:\n",
        "        t=faktoriyel(a)/faktoriyel(a-b)\n",
        "        return t"
      ],
      "execution_count": 0,
      "outputs": []
    },
    {
      "metadata": {
        "id": "-_qvNQ23ZSB0",
        "colab_type": "text"
      },
      "cell_type": "markdown",
      "source": [
        "Soruda verilen 4 harfin ikisi yanyana gelecek şekilde kaç farklı şekilde sıralanacağını hesaplamak için permütasyon fonksiyonunu tanımlıyoruz."
      ]
    },
    {
      "metadata": {
        "id": "MWRcHeqQZjuu",
        "colab_type": "code",
        "colab": {
          "base_uri": "https://localhost:8080/",
          "height": 35
        },
        "outputId": "d74156fc-8ed6-4446-f9a9-6c94abe50895"
      },
      "cell_type": "code",
      "source": [
        "sonuc = permutasyon(4,2)\n",
        "print (sonuc)"
      ],
      "execution_count": 3,
      "outputs": [
        {
          "output_type": "stream",
          "text": [
            "12.0\n"
          ],
          "name": "stdout"
        }
      ]
    },
    {
      "metadata": {
        "id": "_ROjcTP_Z-Vj",
        "colab_type": "text"
      },
      "cell_type": "markdown",
      "source": [
        "4 harfin ikisinin yanyana gelme olayını bulmak için 4'ün 2'li permütasyonunu hesaplatıyoruz tanımladığımız fonksiyona ve sonucunu ekrana yazdırıyoruz."
      ]
    }
  ]
}