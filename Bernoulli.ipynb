{
  "nbformat": 4,
  "nbformat_minor": 0,
  "metadata": {
    "colab": {
      "name": "Untitled6.ipynb",
      "version": "0.3.2",
      "provenance": [],
      "include_colab_link": true
    },
    "kernelspec": {
      "name": "python3",
      "display_name": "Python 3"
    }
  },
  "cells": [
    {
      "cell_type": "markdown",
      "metadata": {
        "id": "view-in-github",
        "colab_type": "text"
      },
      "source": [
        "<a href=\"https://colab.research.google.com/github/cankurtduygu/OLASILIK/blob/master/Bernoulli.ipynb\" target=\"_parent\"><img src=\"https://colab.research.google.com/assets/colab-badge.svg\" alt=\"Open In Colab\"/></a>"
      ]
    },
    {
      "cell_type": "markdown",
      "metadata": {
        "id": "2dqLJJuDC0Lh",
        "colab_type": "text"
      },
      "source": [
        "Sadece iki sonuçtan oluşan deneylere(başarı,başarısızlık - doğru,yanlış gibi) benoulli deneyi denir."
      ]
    },
    {
      "cell_type": "markdown",
      "metadata": {
        "id": "nH1liaDUC0PN",
        "colab_type": "text"
      },
      "source": [
        "Örnek verecek olursa;\n",
        "Öğrencinin İstatistik dersinden geçme olasılığı p ise,\n",
        "İstatistik dersinden kalma olasılığı (1-p) olacaktır.\n",
        "X rassal değişkeninde öğrenci dersi geçerse x = 1 ve kalırsa x = 0 olarak\n",
        "tanımlansın. Bu durumda X rassal değişkeninin olasılık fonksiyonu şöyledir:\n",
        "\n",
        "P ( X = x ) = px(1 – p)1-x    , x = 0, 1 şeklinde gösterilir ve Bernoulli  Dağılımı denir."
      ]
    },
    {
      "cell_type": "markdown",
      "metadata": {
        "id": "ok9tfZG2EZ11",
        "colab_type": "text"
      },
      "source": [
        "Bernoulli rassal değişkeninin aritmetik ortalaması:\n",
        "\n",
        "µx = E (x) = p\n",
        "\n",
        "Bernoulli rassal değişkeninin varyansı:\n",
        "\n",
        " = E [ (X - µx)2] = p (1 – p)"
      ]
    },
    {
      "cell_type": "markdown",
      "metadata": {
        "id": "uBqOb-5EEi4Q",
        "colab_type": "text"
      },
      "source": [
        "**SORU** :Bir öğrenci İstatistik dersinden geçme olasılığının 0.7 olduğuna\n",
        "inanmaktadır. Olasılık dağılımının fonksiyonunu yazınız? varyansını\n",
        "bulunuz?"
      ]
    },
    {
      "cell_type": "markdown",
      "metadata": {
        "id": "pivynuI6EvUe",
        "colab_type": "text"
      },
      "source": [
        "Öğrenci dersten geçerse X rassal değişkeni x = 1(x değişkenine atayacağız) ve kalırsa x = 0 değerini alırsa,\n",
        "X rassal değişkeninin olasılık dağılımı şöyle yazılabilir"
      ]
    },
    {
      "cell_type": "markdown",
      "metadata": {
        "id": "uysPmDuCE6Hr",
        "colab_type": "text"
      },
      "source": [
        "P (x=1) = 0.7 ve P (x=0) = 0.3 olur\n",
        " \n",
        "\n"
      ]
    },
    {
      "cell_type": "code",
      "metadata": {
        "id": "UOk-M0GjFPJD",
        "colab_type": "code",
        "colab": {}
      },
      "source": [
        "p  = 0.7\n",
        "x = 1\n",
        "y =0"
      ],
      "execution_count": 0,
      "outputs": []
    },
    {
      "cell_type": "markdown",
      "metadata": {
        "id": "jcNrwAlYHfzJ",
        "colab_type": "text"
      },
      "source": [
        "x'in alacağı 1 ve 0 değerlerine göre olasılık dağılımları aşağıdaki gibi bulunur"
      ]
    },
    {
      "cell_type": "code",
      "metadata": {
        "id": "gdhyqaWmF6QH",
        "colab_type": "code",
        "colab": {
          "base_uri": "https://localhost:8080/",
          "height": 34
        },
        "outputId": "cf847f48-526a-4768-8415-330b1ca1feeb"
      },
      "source": [
        "Px1 = (p**1)*((1-p)**0)\n",
        "print(\"P ( x = 1 )=\",Px1)"
      ],
      "execution_count": 5,
      "outputs": [
        {
          "output_type": "stream",
          "text": [
            "P ( x = 1 )= 0.7\n"
          ],
          "name": "stdout"
        }
      ]
    },
    {
      "cell_type": "code",
      "metadata": {
        "id": "1m0fvHWsGtui",
        "colab_type": "code",
        "colab": {
          "base_uri": "https://localhost:8080/",
          "height": 34
        },
        "outputId": "a76ed772-9e3f-43f8-c409-20fd398404a3"
      },
      "source": [
        "Px0 = (p**0)*((1-p)**1)\n",
        "print(\"P ( x = 0 )=\",Px0)"
      ],
      "execution_count": 6,
      "outputs": [
        {
          "output_type": "stream",
          "text": [
            "P ( x = 0 )= 0.30000000000000004\n"
          ],
          "name": "stdout"
        }
      ]
    },
    {
      "cell_type": "markdown",
      "metadata": {
        "id": "94lLsOgZIeT2",
        "colab_type": "text"
      },
      "source": [
        "Olasılık dağılım fonksiyonu;\n",
        "P ( X = x ) = px\n",
        "(1 – p)1-x\n",
        " = 0.7x\n",
        "(1 – 0.7)1-x\n",
        " = 0.7x\n",
        "*0.31-x\n",
        " olarak bulunur"
      ]
    },
    {
      "cell_type": "markdown",
      "metadata": {
        "id": "rmrCNwoYIJ3o",
        "colab_type": "text"
      },
      "source": [
        "olsaılık  dağılımlarını bulduktan sonra aşağıdaki gibi varyans hesaplanır "
      ]
    },
    {
      "cell_type": "code",
      "metadata": {
        "id": "YWNvgPK-Hqj1",
        "colab_type": "code",
        "colab": {
          "base_uri": "https://localhost:8080/",
          "height": 34
        },
        "outputId": "cf03efbb-dbe5-4620-e307-c48897e39cfe"
      },
      "source": [
        "varyans = p*(1-p)\n",
        "print(\"varyans=\",varyans)"
      ],
      "execution_count": 9,
      "outputs": [
        {
          "output_type": "stream",
          "text": [
            "varyans= 0.21000000000000002\n"
          ],
          "name": "stdout"
        }
      ]
    }
  ]
}