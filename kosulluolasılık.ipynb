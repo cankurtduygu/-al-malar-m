{
  "nbformat": 4,
  "nbformat_minor": 0,
  "metadata": {
    "colab": {
      "name": "kosulluolasılık.ipynb",
      "version": "0.3.2",
      "provenance": [],
      "include_colab_link": true
    },
    "kernelspec": {
      "name": "python3",
      "display_name": "Python 3"
    }
  },
  "cells": [
    {
      "cell_type": "markdown",
      "metadata": {
        "id": "view-in-github",
        "colab_type": "text"
      },
      "source": [
        "<a href=\"https://colab.research.google.com/github/cankurtduygu/OLASILIK/blob/master/kosulluolas%C4%B1l%C4%B1k.ipynb\" target=\"_parent\"><img src=\"https://colab.research.google.com/assets/colab-badge.svg\" alt=\"Open In Colab\"/></a>"
      ]
    },
    {
      "metadata": {
        "id": "_ds8nTKEQ1ul",
        "colab_type": "text"
      },
      "cell_type": "markdown",
      "source": [
        "Örnek: Bir çift zar atılıyor.Üst yüze gelenlerden birinin 5 olduğu bilindiğine göre üst yüze gelen               sayıların toplamının 8 olma olasılığı nedir?"
      ]
    },
    {
      "metadata": {
        "id": "zrOAQXg6RQgJ",
        "colab_type": "code",
        "colab": {}
      },
      "cell_type": "code",
      "source": [
        "dizi1 = [1,2,3,4,5,6]\n",
        "dizi2 = [1,2,3,4,5,6]\n",
        "ornekuzay = 0\n",
        "olay = 0"
      ],
      "execution_count": 0,
      "outputs": []
    },
    {
      "metadata": {
        "id": "slJU3cfORTyJ",
        "colab_type": "text"
      },
      "cell_type": "markdown",
      "source": [
        "Bir çift zar atılacağından  bir  zarın üzerinde olan sayıları tutan 2 ayrı dizi tanımlıyoruz.Ornekuzay ve olay değerleni tutacak değişken tanımlıyoruz."
      ]
    },
    {
      "metadata": {
        "id": "m9OLAK03Slfn",
        "colab_type": "code",
        "colab": {}
      },
      "cell_type": "code",
      "source": [
        "for i in range (len(dizi1)):\n",
        "  for j in range (len(dizi2)):\n",
        "    if dizi1[i]==5 or dizi2[j] == 5: \n",
        "      ornekuzay = ornekuzay + 1\n",
        "      if dizi1[i] + dizi2[j] == 8:\n",
        "        olay = olay + 1"
      ],
      "execution_count": 0,
      "outputs": []
    },
    {
      "metadata": {
        "id": "p_g72AdeSFwb",
        "colab_type": "text"
      },
      "cell_type": "markdown",
      "source": [
        "İçiçe iki for döngüsü kurarar tanımlanan diziler içinde geziyor ve zarın önyüzüne gelen sayıların 5 olma durumunu buluyoruz.Aynı zamanda gelen sayıların toplamının 8 olma durumunu buluyoruz."
      ]
    },
    {
      "metadata": {
        "id": "ok2o5gg-Sfmo",
        "colab_type": "code",
        "outputId": "384180a6-044e-4836-97cf-6b118cff7cd7",
        "colab": {
          "base_uri": "https://localhost:8080/",
          "height": 35
        }
      },
      "cell_type": "code",
      "source": [
        "print(\"istenilen sonuc = \",olay,\"/\",ornekuzay)"
      ],
      "execution_count": 0,
      "outputs": [
        {
          "output_type": "stream",
          "text": [
            "istenilen sonuc =  2 / 11\n"
          ],
          "name": "stdout"
        }
      ]
    },
    {
      "metadata": {
        "id": "le_6lVV3UCKe",
        "colab_type": "text"
      },
      "cell_type": "markdown",
      "source": [
        "verilen durumun olasılık değerini bulabilmek için olay değişkenini ornekuzay değişkenine oranlıyoruz ve print fonksiyonu ile ekrana yazdırıyoruz."
      ]
    },
    {
      "metadata": {
        "id": "Ci3qvpimShRv",
        "colab_type": "text"
      },
      "cell_type": "markdown",
      "source": [
        ""
      ]
    }
  ]
}