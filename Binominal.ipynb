{
  "nbformat": 4,
  "nbformat_minor": 0,
  "metadata": {
    "colab": {
      "name": "Untitled5.ipynb",
      "version": "0.3.2",
      "provenance": [],
      "include_colab_link": true
    },
    "kernelspec": {
      "name": "python3",
      "display_name": "Python 3"
    }
  },
  "cells": [
    {
      "cell_type": "markdown",
      "metadata": {
        "id": "view-in-github",
        "colab_type": "text"
      },
      "source": [
        "<a href=\"https://colab.research.google.com/github/cankurtduygu/OLASILIK/blob/master/Binominal.ipynb\" target=\"_parent\"><img src=\"https://colab.research.google.com/assets/colab-badge.svg\" alt=\"Open In Colab\"/></a>"
      ]
    },
    {
      "cell_type": "markdown",
      "metadata": {
        "id": "d57JqC5-AEw-",
        "colab_type": "text"
      },
      "source": [
        "Bir hastanede bir hastalıktan iyileşme olasılığı 0.8'dir.Bu hastaneye bu hastalıktan gelen 10 kişiden\n",
        "en az 9 hastanın iyileşme olasılığı nedir?"
      ]
    },
    {
      "cell_type": "markdown",
      "metadata": {
        "id": "73-lI9ETAa-o",
        "colab_type": "text"
      },
      "source": [
        "X Bin(n=10,p=0.8)\n",
        "P(X=>9)=P(X=9)+P(X=10)"
      ]
    },
    {
      "cell_type": "code",
      "metadata": {
        "id": "5ccB2TUzAjRg",
        "colab_type": "code",
        "colab": {}
      },
      "source": [
        "n=10\n",
        "p=0.8\n",
        "x1=9\n",
        "x2=10"
      ],
      "execution_count": 0,
      "outputs": []
    },
    {
      "cell_type": "code",
      "metadata": {
        "id": "xCBVrQI5AjUu",
        "colab_type": "code",
        "colab": {}
      },
      "source": [
        "def faktoriyel (x):\n",
        "    carp = 1\n",
        "    for i in range(x):\n",
        "         carp = carp * (i+1)\n",
        "    return carp"
      ],
      "execution_count": 0,
      "outputs": []
    },
    {
      "cell_type": "markdown",
      "metadata": {
        "id": "uMuC7QH6Ayq9",
        "colab_type": "text"
      },
      "source": [
        "x1 için hesapla"
      ]
    },
    {
      "cell_type": "code",
      "metadata": {
        "id": "PaQAekRiA2YW",
        "colab_type": "code",
        "colab": {}
      },
      "source": [
        "kom1 = faktoriyel(x2)/(faktoriyel(x1)*faktoriyel(x2-x1))"
      ],
      "execution_count": 0,
      "outputs": []
    },
    {
      "cell_type": "markdown",
      "metadata": {
        "id": "-1CPL37bA5TH",
        "colab_type": "text"
      },
      "source": [
        "x2 için hesapla"
      ]
    },
    {
      "cell_type": "code",
      "metadata": {
        "id": "YiXaN4wTA6dF",
        "colab_type": "code",
        "colab": {}
      },
      "source": [
        "kom2 = faktoriyel(x2)/(faktoriyel(x2)*faktoriyel(x2-x2))"
      ],
      "execution_count": 0,
      "outputs": []
    },
    {
      "cell_type": "code",
      "metadata": {
        "id": "jJVqkYXeA_VY",
        "colab_type": "code",
        "outputId": "41b10182-05bd-418b-aa12-8d682e557623",
        "colab": {
          "base_uri": "https://localhost:8080/",
          "height": 34
        }
      },
      "source": [
        "sonuc1 = kom1*(p**x1)*((1-p)**(x2-x1))\n",
        "sonuc2 = kom2*(p**x2)*((1-p)**(x2-x2))\n",
        "top_son = sonuc1 + sonuc2\n",
        "print(\"sonuc\",top_son)"
      ],
      "execution_count": 14,
      "outputs": [
        {
          "output_type": "stream",
          "text": [
            "sonuc 0.37580963840000015\n"
          ],
          "name": "stdout"
        }
      ]
    }
  ]
}