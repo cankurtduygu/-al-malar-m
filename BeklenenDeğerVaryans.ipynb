{
  "nbformat": 4,
  "nbformat_minor": 0,
  "metadata": {
    "colab": {
      "name": "Untitled4.ipynb",
      "version": "0.3.2",
      "provenance": [],
      "include_colab_link": true
    },
    "kernelspec": {
      "name": "python3",
      "display_name": "Python 3"
    }
  },
  "cells": [
    {
      "cell_type": "markdown",
      "metadata": {
        "id": "view-in-github",
        "colab_type": "text"
      },
      "source": [
        "<a href=\"https://colab.research.google.com/github/cankurtduygu/OLASILIK/blob/master/BeklenenDe%C4%9FerVaryans.ipynb\" target=\"_parent\"><img src=\"https://colab.research.google.com/assets/colab-badge.svg\" alt=\"Open In Colab\"/></a>"
      ]
    },
    {
      "cell_type": "markdown",
      "metadata": {
        "id": "UiDllo2H6EQ8",
        "colab_type": "text"
      },
      "source": [
        "Beklenen Değer,Varyans\n",
        "\n",
        "soru: X reastgele değişkenine ait kesikli olasılık dağılımı verilmiştir.Varyans nedir?(Var[x]=?)\n"
      ]
    },
    {
      "cell_type": "markdown",
      "metadata": {
        "id": "Iwwy-uyo7Pk5",
        "colab_type": "text"
      },
      "source": [
        "X=[1,2,3]       #x rastgele değişkenine ait kesikli olaslık dağılımını tutucağımız liste yapıyoruz.\n",
        "Px=[3/7,2/7,2/7]\n",
        "\n",
        "Vx=0  #(varyans)\n",
        "E1x=0\n",
        "E2x=0"
      ]
    },
    {
      "cell_type": "code",
      "metadata": {
        "id": "23C0VrsB70Vp",
        "colab_type": "code",
        "colab": {}
      },
      "source": [
        "X = [1,2,3]\n",
        "Px = [3 / 7,2 / 7,2 / 7]\n",
        "Vx = 0 \n",
        "E1x = 0 \n",
        "E2x = 0"
      ],
      "execution_count": 0,
      "outputs": []
    },
    {
      "cell_type": "markdown",
      "metadata": {
        "id": "Aw3opXhz9oYW",
        "colab_type": "text"
      },
      "source": [
        "oluşturduğumuz x dizisinin uzunluğu kadar for döngüsünün dönmesini istiyoruz."
      ]
    },
    {
      "cell_type": "code",
      "metadata": {
        "id": "hsVRRrxF7p5z",
        "colab_type": "code",
        "colab": {}
      },
      "source": [
        "for i in range (len(X)): \n",
        "    E1x = E1x + (X[i]*Px[i])\n",
        "    E2x = E2x + ((X[i]**2)*Px[i])\n",
        "    "
      ],
      "execution_count": 0,
      "outputs": []
    },
    {
      "cell_type": "code",
      "metadata": {
        "id": "5n2KSImG9EYk",
        "colab_type": "code",
        "outputId": "31fc552d-d52c-4bf3-c4fb-05b64162781f",
        "colab": {
          "base_uri": "https://localhost:8080/",
          "height": 34
        }
      },
      "source": [
        "E1x = E1x**2\n",
        "Vx = E2x-E1x\n",
        "print(\"varyans\",Vx)"
      ],
      "execution_count": 0,
      "outputs": [
        {
          "output_type": "stream",
          "text": [
            "varyans 0.6938775510204076\n"
          ],
          "name": "stdout"
        }
      ]
    }
  ]
}