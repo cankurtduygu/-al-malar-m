{
  "nbformat": 4,
  "nbformat_minor": 0,
  "metadata": {
    "colab": {
      "name": "Untitled0.ipynb",
      "version": "0.3.2",
      "provenance": [],
      "include_colab_link": true
    },
    "kernelspec": {
      "name": "python3",
      "display_name": "Python 3"
    }
  },
  "cells": [
    {
      "cell_type": "markdown",
      "metadata": {
        "id": "view-in-github",
        "colab_type": "text"
      },
      "source": [
        "<a href=\"https://colab.research.google.com/github/cankurtduygu/OLASILIK/blob/master/Untitled0.ipynb\" target=\"_parent\"><img src=\"https://colab.research.google.com/assets/colab-badge.svg\" alt=\"Open In Colab\"/></a>"
      ]
    },
    {
      "metadata": {
        "id": "1YWMzV5RH4YU",
        "colab_type": "code",
        "colab": {}
      },
      "cell_type": "code",
      "source": [
        "sayilar = [1,2,3,4,5,6,7,8,9]\n",
        "index= len(sayilar)-1\n",
        "güvercin = 6"
      ],
      "execution_count": 0,
      "outputs": []
    },
    {
      "metadata": {
        "id": "9GJxjVwwH8wI",
        "colab_type": "text"
      },
      "cell_type": "markdown",
      "source": [
        "elemanları 1-9 arası olan sayı dizimizi tanımlıyoruz"
      ]
    },
    {
      "metadata": {
        "id": "6ZvH3dM5IMHL",
        "colab_type": "code",
        "colab": {}
      },
      "cell_type": "code",
      "source": [
        "def hesapla():\n",
        "    yuva = 0\n",
        "    for i in range (index):\n",
        "        if i==5:\n",
        "            yuva=yuva+1\n",
        "            break\n",
        "        else:\n",
        "                for j in range (index):\n",
        "                    if(sayilar[i]+sayilar[j] == 10):\n",
        "                            yuva=yuva+1\n",
        "                                      \n",
        "    return yuva"
      ],
      "execution_count": 0,
      "outputs": []
    },
    {
      "metadata": {
        "id": "dnA-U59eINHM",
        "colab_type": "text"
      },
      "cell_type": "markdown",
      "source": [
        "tanımlanan dizide toplamları 10 olan ikili eleman sayılarını belirleyen hesapla fonksiyonu tanımlıyoruz"
      ]
    },
    {
      "metadata": {
        "id": "L_lM37DpIcmQ",
        "colab_type": "code",
        "colab": {
          "base_uri": "https://localhost:8080/",
          "height": 121
        },
        "outputId": "b88c7abc-4abf-4b06-f7c2-293412c2bcbc"
      },
      "cell_type": "code",
      "source": [
        "b = hesapla()\n",
        "print(b)\n",
        "\n",
        "if(güvercin-b == 1):\n",
        "        print(\"toplamı 10 olan ikili sayısı\",b,\"\\n\")\n",
        "        print(\"seçilecek eleman sayısı\",güvercin,\"\\n\")\n",
        "        print(\"Güvercin prensibi ilkesine göre tanımlanan dizide toplamı 10 olan en az bir ikili seçilecektir\")"
      ],
      "execution_count": 3,
      "outputs": [
        {
          "output_type": "stream",
          "text": [
            "5\n",
            "toplamı 10 olan ikili sayısı 5 \n",
            "\n",
            "seçilecek eleman sayısı 6 \n",
            "\n",
            "Güvercin prensibi ilkesine göre tanımlanan dizide toplamı 10 olan en az bir ikili seçilecektir\n"
          ],
          "name": "stdout"
        }
      ]
    },
    {
      "metadata": {
        "id": "dYYmEr8HIgB8",
        "colab_type": "text"
      },
      "cell_type": "markdown",
      "source": [
        "tanımlanan hesapla fonksiyonunu çağırıyoruz ve bulunan verileri print ile yazdırıyoruz"
      ]
    },
    {
      "metadata": {
        "id": "diEj0N7OIohI",
        "colab_type": "text"
      },
      "cell_type": "markdown",
      "source": [
        "güvercin yuvası ilkesine göre tanımlanan sayı dizisinden rastgele seçilen sayı ikililerinden en az bir tanesinin toplamı 10 olur."
      ]
    }
  ]
}