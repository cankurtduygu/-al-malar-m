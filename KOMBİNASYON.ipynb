{
  "nbformat": 4,
  "nbformat_minor": 0,
  "metadata": {
    "colab": {
      "name": "KOMBİNASYON.ipynb",
      "version": "0.3.2",
      "provenance": [],
      "include_colab_link": true
    },
    "kernelspec": {
      "name": "python3",
      "display_name": "Python 3"
    }
  },
  "cells": [
    {
      "cell_type": "markdown",
      "metadata": {
        "id": "view-in-github",
        "colab_type": "text"
      },
      "source": [
        "<a href=\"https://colab.research.google.com/github/cankurtduygu/OLASILIK/blob/master/KOMB%C4%B0NASYON.ipynb\" target=\"_parent\"><img src=\"https://colab.research.google.com/assets/colab-badge.svg\" alt=\"Open In Colab\"/></a>"
      ]
    },
    {
      "metadata": {
        "id": "WrFkH_U2noAt",
        "colab_type": "text"
      },
      "cell_type": "markdown",
      "source": [
        "***SORU:*** 4 doktor, 5 hemsire arasından 3 kisilik ekip seçilecektir. Seçilenler arasında 1 doktor 2 hemsire olma olasılıgı nedir?"
      ]
    },
    {
      "metadata": {
        "id": "YNx_Hyben0wR",
        "colab_type": "code",
        "colab": {}
      },
      "cell_type": "code",
      "source": [
        "n = 9   #toplam kısı sayısı\n",
        "r = 3   #seçilecek kısı sayısı\n",
        "d = 4   #toplam doktor sayısı\n",
        "d1 = 1  #secilecek doktor sayısı;\n",
        "h = 5   #toplam hemsire sayısı;\n",
        "h2 = 2  #secilecek hemsire sayısı;"
      ],
      "execution_count": 0,
      "outputs": []
    },
    {
      "metadata": {
        "id": "w_w3EWcmn_Aa",
        "colab_type": "text"
      },
      "cell_type": "markdown",
      "source": [
        "Verilen kombinasyon sorusunu sorusunu çözebilmek için ilk önce değişkenlerimizi tanımlıyoruz."
      ]
    },
    {
      "metadata": {
        "id": "voZwGLQooNkj",
        "colab_type": "code",
        "colab": {}
      },
      "cell_type": "code",
      "source": [
        "def faktoriyel (x):\n",
        "    carp = 1\n",
        "    for i in range(x):\n",
        "         carp = carp * (i+1)\n",
        "    return carp"
      ],
      "execution_count": 0,
      "outputs": []
    },
    {
      "metadata": {
        "id": "X6K1vTDkoSDh",
        "colab_type": "text"
      },
      "cell_type": "markdown",
      "source": [
        "faktöriyel hesabını yapacağımız fonksiyonu tanımlıyoruz."
      ]
    },
    {
      "metadata": {
        "id": "Y2ob5Z15occK",
        "colab_type": "code",
        "colab": {
          "base_uri": "https://localhost:8080/",
          "height": 35
        },
        "outputId": "fc50359f-a3aa-4547-c0ff-52182a865454"
      },
      "cell_type": "code",
      "source": [
        "ornekuzay = faktoriyel(n)/(faktoriyel(r)*faktoriyel(n-r))\n",
        "doktorsec = faktoriyel(d)/(faktoriyel(d1)*faktoriyel(d-d1))\n",
        "hemsiresec = faktoriyel(h)/(faktoriyel(h2)*faktoriyel(h-h2))\n",
        " \n",
        "sonuc = (doktorsec*hemsiresec)/ornekuzay\n",
        "   \n",
        "print(sonuc) #sonucu ekrana yazdır.\n",
        "                           "
      ],
      "execution_count": 3,
      "outputs": [
        {
          "output_type": "stream",
          "text": [
            "0.47619047619047616\n"
          ],
          "name": "stdout"
        }
      ]
    },
    {
      "metadata": {
        "id": "iqTCDiacoiBt",
        "colab_type": "text"
      },
      "cell_type": "markdown",
      "source": [
        "soruda verilen verileri kullanarak \n",
        "                         *   örnekuzay\n",
        "                         *   seçilenlerin doktor olma olasılığı\n",
        "                         *   seçilenlerin hemşire olma olasığını hesaplıyoruz\n",
        "sonuc olarak tanımladığımız değişkende genel kombinasyon formülünü kullanarak hesaplama yazpıyoruz.\n",
        "\n",
        "print fonksiyonu ile sonucu ekrana yazdırıyoruz.\n",
        "\n",
        "\n",
        "\n",
        "\n",
        "\n"
      ]
    }
  ]
}